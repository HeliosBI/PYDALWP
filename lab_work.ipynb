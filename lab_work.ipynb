{
 "cells": [
  {
   "cell_type": "markdown",
   "metadata": {},
   "source": [
    "***Лабораторная работа по курсу «Python для анализа данных»*** <br />\n",
    "При выполнении работы допускается использование любых внешних модулей и\n",
    "пакетов. <br /> <br />\n",
    "**Задача 1** <br />\n",
    "Дана строка\n",
    "string_01 = “Mama, just killed a man, put a gun against his head,\n",
    "pulled my trigger, now he's dead. Mama, life had just begun, but\n",
    "now I've gone and thrown it all away. Mama, ooh (any way the wind\n",
    "blows), didn't mean to make you cry. If I'm not back again this\n",
    "time tomorrow carry on, carry on as if nothing really matters.”\n",
    "- Посчитайте, сколько в строке символов (исключая пробелы).\n",
    "- Посчитайте, сколько в строке слов.\n",
    "- Напишите функцию, которая будет принимать в качестве аргумента букву и\n",
    "выводить все слова из строки, заканчивающиеся на эту букву (например, “s”).\n",
    "- Не обязательно: Напишите функцию, которая будет принимать в качестве\n",
    "аргумента букву и выводить все слова из строки, начинающиеся на эту букву\n",
    "(например, “m”).<br /><br />\n",
    "\n"
   ]
  },
  {
   "cell_type": "code",
   "execution_count": null,
   "metadata": {},
   "outputs": [],
   "source": [
    "string_01 = \"Mama, just killed a man, put a gun against his head,pulled my trigger, now he's dead. \\\n",
    "             Mama, life had just begun, but now I've gone and thrown it all away. Mama, ooh \\\n",
    "             (any way the wind blows), didn't mean to make you cry. If I'm not back again this time \\\n",
    "             tomorrow carry on, carry on as if nothing really matters.\""
   ]
  },
  {
   "cell_type": "code",
   "execution_count": null,
   "metadata": {},
   "outputs": [],
   "source": [
    "import re\n",
    "no_spaces = len(re.findall('\\S', string_01))\n",
    "no_spaces"
   ]
  },
  {
   "cell_type": "code",
   "execution_count": null,
   "metadata": {},
   "outputs": [],
   "source": [
    "import re\n",
    "words = re.findall('\\w+', string_01)\n",
    "len(words)"
   ]
  },
  {
   "cell_type": "code",
   "execution_count": null,
   "metadata": {},
   "outputs": [],
   "source": [
    "def ger_words_by_last_letter(letter):\n",
    "    pattern = r'\\w+(?=' + letter + r'\\b)'\n",
    "    output = re.findall(pattern, string_01)\n",
    "    output = [w+letter for w in output]\n",
    "    return output\n",
    "\n",
    "print(ger_words_by_last_letter('d'))\n",
    "print(ger_words_by_last_letter('n'))\n",
    "print(ger_words_by_last_letter('y'))\n",
    "print(ger_words_by_last_letter('w'))\n",
    "print(ger_words_by_last_letter('s'))"
   ]
  },
  {
   "cell_type": "code",
   "execution_count": null,
   "metadata": {},
   "outputs": [],
   "source": [
    "def ger_words_by_first_letter(letter):\n",
    "    pattern = r'(?<=\\b' + letter + r')\\w+\\b'\n",
    "    output = re.findall(pattern, string_01)\n",
    "    output = [letter+w for w in output]\n",
    "    return output\n",
    "\n",
    "print(ger_words_by_first_letter('d'))\n",
    "print(ger_words_by_first_letter('n'))\n",
    "print(ger_words_by_first_letter('y'))\n",
    "print(ger_words_by_first_letter('w'))\n",
    "print(ger_words_by_first_letter('m'))\n",
    "print(ger_words_by_first_letter('M'))"
   ]
  },
  {
   "cell_type": "markdown",
   "metadata": {},
   "source": [
    "**Задача 2** <br />\n",
    "Напишите код, который будет генерировать случайную последовательность из 6\n",
    "цифр, одна из которых должна быть 3. Позиция цифры 3 должна\n",
    "определяться случайным образом. Результат должен быть строкой. Например:\n",
    "\"456309\" или \"330127\".<br /><br />"
   ]
  },
  {
   "cell_type": "code",
   "execution_count": null,
   "metadata": {},
   "outputs": [],
   "source": [
    "import random\n",
    "\n",
    "random_6_digit_seq = random.sample([0, 1, 2, 3, 4, 5, 6, 7, 8, 9], 6)\n",
    "random_pos_for_3 = random.sample([0, 1, 2, 3, 4, 5], 1)\n",
    "random_6_digit_seq[int(random_pos_for_3[0])] = 3\n",
    "\n",
    "random_6_digit_seq"
   ]
  },
  {
   "cell_type": "markdown",
   "metadata": {},
   "source": [
    "**Задача 3**<br />\n",
    "Дан список\n",
    "list_01 = [1, 1, 2, 3, 5, 8, 13, 21, 34, 55, 89, 144, 233, 377, 610]\n",
    "Напишите алгоритм, который выводит сумму элементов списка, которые больше\n",
    "10, но меньше 100.<br /><br />"
   ]
  },
  {
   "cell_type": "code",
   "execution_count": null,
   "metadata": {},
   "outputs": [],
   "source": [
    "list_01 = [1, 1, 2, 3, 5, 8, 13, 21, 34, 55, 89, 144, 233, 377, 610]\n",
    "greater_then = 10\n",
    "lesser_then = 100\n",
    "\n",
    "sumifs = [v for v in list_01 if v > greater_then and v < lesser_then]\n",
    "result = sum(sumifs)\n",
    "result"
   ]
  },
  {
   "cell_type": "markdown",
   "metadata": {},
   "source": [
    "**Задача 4**<br />\n",
    "Данные студентов представлены в виде списка списков:\n",
    "students = [\n",
    "[\"0001\", \"Антонов\", \"Антон\", \"Игоревич\", \"20.08.2009\",\n",
    "\"БСТ161\"],\n",
    "[\"1102\", \"Богов\", \"Артем\", \"Игоревич\", \"25.01.2010\",\n",
    "\"БСТ162\"],[\"0333\", \"Глаголева\", \"Анастасия\", \"Николаевна\",\n",
    "\"11.07.2009\", \"БСТ163\"],\n",
    "[\"4004\", \"Степанова\", \"Наталья\", \"Александровна\",\n",
    "\"13.02.2008\", \"БСТ161\"],\n",
    "[\"0045\", \"Боков\", \"Игорь\", \"Харитонович\", \"02.06.2009\",\n",
    "\"БСТ161\"],\n",
    "[\"0096\", \"Васильков\", \"Валентин\", \"Сергеевич\", \"20.03.2009\",\n",
    "\"БСТ164\"],\n",
    "[\"0607\", \"Сиропова\", \"Виолетта\", \"Эдуардовна\", \"28.05.2010\",\n",
    "\"БСТ162\"],\n",
    "[\"0309\", \"Шафутинский\", \"Михаил\", \"Михайлович\",\n",
    "\"03.09.2007\", \"БСТ163\"]\n",
    "]\n",
    "- Преобразуйте данные таким образом, чтобы они были представлены в виде\n",
    "словаря, в котором ключами являются номера студентов, а значениями —\n",
    "список из других данных о студентах.\n",
    "- Напишите функцию, которая принимает в качестве аргумента номер студента и\n",
    "новый номер группы и позволяет изменить номер группы этого студента на\n",
    "новый.\n",
    "- Напишите функцию, которая принимает номер группы и выводит список\n",
    "(фамилии, имена, отчества) всех студентов этой группы.<br /><br />"
   ]
  },
  {
   "cell_type": "code",
   "execution_count": null,
   "metadata": {},
   "outputs": [],
   "source": [
    "students = [\n",
    "[\"0001\", \"Антонов\", \"Антон\", \"Игоревич\", \"20.08.2009\",\n",
    "\"БСТ161\"],\n",
    "[\"1102\", \"Богов\", \"Артем\", \"Игоревич\", \"25.01.2010\",\n",
    "\"БСТ162\"],[\"0333\", \"Глаголева\", \"Анастасия\", \"Николаевна\",\n",
    "\"11.07.2009\", \"БСТ163\"],\n",
    "[\"4004\", \"Степанова\", \"Наталья\", \"Александровна\",\n",
    "\"13.02.2008\", \"БСТ161\"],\n",
    "[\"0045\", \"Боков\", \"Игорь\", \"Харитонович\", \"02.06.2009\",\n",
    "\"БСТ161\"],\n",
    "[\"0096\", \"Васильков\", \"Валентин\", \"Сергеевич\", \"20.03.2009\",\n",
    "\"БСТ164\"],\n",
    "[\"0607\", \"Сиропова\", \"Виолетта\", \"Эдуардовна\", \"28.05.2010\",\n",
    "\"БСТ162\"],\n",
    "[\"0309\", \"Шафутинский\", \"Михаил\", \"Михайлович\",\n",
    "\"03.09.2007\", \"БСТ163\"]\n",
    "]"
   ]
  },
  {
   "cell_type": "code",
   "execution_count": null,
   "metadata": {},
   "outputs": [],
   "source": [
    "students_dict = {}\n",
    "for student in students:\n",
    "    key = student[0]\n",
    "    value = student[1:]\n",
    "    students_dict[key] = value\n",
    "students_dict"
   ]
  },
  {
   "cell_type": "code",
   "execution_count": null,
   "metadata": {},
   "outputs": [],
   "source": [
    "def change_student_group(student_id, new_group_name):\n",
    "    for key, value in students_dict.items():\n",
    "        if key == student_id:\n",
    "            value[4] = new_group_name\n",
    "            return\n",
    "\n",
    "change_student_group('0001','БСТ1610000')\n",
    "change_student_group('0309','БСТ100500')\n",
    "students_dict"
   ]
  },
  {
   "cell_type": "code",
   "execution_count": null,
   "metadata": {},
   "outputs": [],
   "source": [
    "def get_students_by_group(group_name):\n",
    "    stident_list = []\n",
    "    for value in students_dict.values():\n",
    "        if value[4] == group_name:\n",
    "            initials = value[0] + ' ' + value[1] + ' ' + value[2]\n",
    "            stident_list.append(initials)\n",
    "    return stident_list\n",
    "\n",
    "print(get_students_by_group('БСТ162'))\n",
    "print(get_students_by_group('БСТ161'))\n",
    "print(get_students_by_group('БСТ163'))"
   ]
  },
  {
   "cell_type": "markdown",
   "metadata": {},
   "source": [
    "**Задача 5**<br />\n",
    "Дана матрица:\n",
    "matrix = [ <br />\n",
    "[0, 1, 2, 4, 8],<br />\n",
    "[6, 2, 2, 1, 9],<br />\n",
    "[3, 3, 3, 3, 3],<br />\n",
    "[4, 6, 7, 1, 2],<br />\n",
    "[5, 7, 3, 4, 0]<br />\n",
    "]<br />\n",
    "- Выведите результат сложения всех элементов матрицы.\n",
    "- Напишите алгоритм вычисления максимума из сумм элементов каждого\n",
    "столбца."
   ]
  },
  {
   "cell_type": "code",
   "execution_count": null,
   "metadata": {},
   "outputs": [],
   "source": [
    "matrix = [[0, 1, 2, 4, 8], [6, 2, 2, 1, 9], [3, 3, 3, 3, 3], [4, 6, 7, 1, 2], [5, 7, 3, 4, 0]]\n",
    "sum_all_elements = 0\n",
    "for l in matrix:\n",
    "    for lv in l:\n",
    "        sum_all_elements += lv\n",
    "sum_all_elements"
   ]
  },
  {
   "cell_type": "code",
   "execution_count": null,
   "metadata": {},
   "outputs": [],
   "source": [
    "sums_of_columns = []\n",
    "i = 0\n",
    "while i < len(matrix[0]):\n",
    "    values_of_column = []\n",
    "    i += 1\n",
    "    for l in matrix:      \n",
    "        values_of_column.append(l[i-1])\n",
    "    sums_of_columns.append((sum(values_of_column)))\n",
    "result = max(sums_of_columns)\n",
    "result"
   ]
  }
 ],
 "metadata": {
  "kernelspec": {
   "display_name": "Python 3",
   "language": "python",
   "name": "python3"
  },
  "language_info": {
   "codemirror_mode": {
    "name": "ipython",
    "version": 3
   },
   "file_extension": ".py",
   "mimetype": "text/x-python",
   "name": "python",
   "nbconvert_exporter": "python",
   "pygments_lexer": "ipython3",
   "version": "3.7.4"
  }
 },
 "nbformat": 4,
 "nbformat_minor": 2
}
